{
 "cells": [
  {
   "cell_type": "markdown",
   "metadata": {},
   "source": [
    "# Breast cancer  Prediction using Logistic Regression"
   ]
  },
  {
   "cell_type": "markdown",
   "metadata": {},
   "source": [
    "Scikit-learn ships with the Breast Cancer Wisconsin (Diagnostic) Data Set. \n",
    "\n",
    "It is a classic dataset that is often used to illustrate binary classifications. This dataset contains 30 features, and they are computed from a digitized image of a fine needle aspirate (FNA) of a breast mass. They describe characteristics of the cell nuclei present in the image. The label of the dataset is a binary classification—M for malignant or B for benign.\n",
    "\n",
    "Real-valued features are computed for each cell nucleus:\n",
    "\n",
    "a) radius (mean of distances from center to points on the perimeter)\n",
    "b) texture (standard deviation of gray-scale values)\n",
    "c) perimeter\n",
    "d) area\n",
    "e) smoothness (local variation in radius lengths)\n",
    "f) compactness (perimeter^2 / area - 1.0)\n",
    "g) concavity (severity of concave portions of the contour)\n",
    "h) concave points (number of concave portions of the contour)\n",
    "i) symmetry\n",
    "j) fractal dimension (\"coastline approximation\" - 1)\n",
    "\n",
    "We have mean, standard error, worst (largest) for each of these features of 569 observations."
   ]
  },
  {
   "cell_type": "markdown",
   "metadata": {},
   "source": [
    "**2 Types of Tumor?**\n",
    "\n",
    "A tumor is a mass of abnormal tissue. There are two types of breast cancer tumors: those that are non-cancerous, or ‘**benign**’, and those that are cancerous, which are ‘**malignant**’.*"
   ]
  },
  {
   "cell_type": "markdown",
   "metadata": {},
   "source": [
    "You can load the Breast Cancer dataset by first importing the datasets module\n",
    "from sklearn. Then use the `load_breast_cancer()` function as follows:"
   ]
  },
  {
   "cell_type": "code",
   "execution_count": 1,
   "metadata": {},
   "outputs": [],
   "source": [
    "# Using the Breast Cancer Wisconsin (Diagnostic) Data Set\n",
    "\n",
    "from sklearn.datasets import load_breast_cancer\n",
    "cancer = load_breast_cancer()"
   ]
  },
  {
   "cell_type": "code",
   "execution_count": 2,
   "metadata": {},
   "outputs": [],
   "source": [
    "# cancer_view = load_breast_cancer(as_frame=True)\n",
    "# print(cancer_view)"
   ]
  },
  {
   "cell_type": "code",
   "execution_count": 3,
   "metadata": {},
   "outputs": [],
   "source": [
    "# splitting the data into train - test\n",
    "\n",
    "from sklearn.model_selection import train_test_split\n",
    "train_set, test_set, train_labels, test_labels = train_test_split(cancer.data, cancer.target, \n",
    "                                                                  test_size = 0.25, random_state = 1)\n",
    "\n",
    "# train_set, test_set, train_labels, test_labels = train_test_split(cancer.data, cancer.target, \n",
    "#                                                                   test_size = 0.25, random_state = 1,\n",
    "#                                                                   stratify = cancer.target)"
   ]
  },
  {
   "cell_type": "markdown",
   "metadata": {},
   "source": [
    "The stratify parameter allows you to\n",
    "specify which column (feature/label) to use so that the split is proportionate.\n",
    "For example, if the column specified is a categorical variable with 80 percent 0s\n",
    "and 20 percent 1s, then the training and test sets would each have 80 percent\n",
    "of 0s and 20 percent of 1s."
   ]
  },
  {
   "cell_type": "code",
   "execution_count": 4,
   "metadata": {},
   "outputs": [],
   "source": [
    "# train the model\n",
    "\n",
    "from sklearn import linear_model\n",
    "X_train = train_set[:,0:30] # mean radiuses\n",
    "y_train = train_labels # 0: malignant, 1: benign\n",
    "\n",
    "X_test = test_set[:,0:30] # mean radiuses\n",
    "y_test = test_labels # 0: malignant, 1: benign"
   ]
  },
  {
   "cell_type": "code",
   "execution_count": 5,
   "metadata": {},
   "outputs": [],
   "source": [
    "from sklearn.preprocessing import StandardScaler\n",
    "\n",
    "sc = StandardScaler()\n",
    "X_train = sc.fit_transform(X_train)\n",
    "X_test = sc.transform(X_test)"
   ]
  },
  {
   "cell_type": "code",
   "execution_count": 6,
   "metadata": {},
   "outputs": [
    {
     "data": {
      "text/plain": [
       "LogisticRegression()"
      ]
     },
     "execution_count": 6,
     "metadata": {},
     "output_type": "execute_result"
    }
   ],
   "source": [
    "log_regress = linear_model.LogisticRegression()\n",
    "log_regress.fit(X = X_train,y = y_train)"
   ]
  },
  {
   "cell_type": "markdown",
   "metadata": {},
   "source": [
    "In this example, we are training it with all of the 30 features in the dataset.\n",
    "When the training is done, let’s print out the intercept and model coefficients:"
   ]
  },
  {
   "cell_type": "code",
   "execution_count": 7,
   "metadata": {},
   "outputs": [
    {
     "name": "stdout",
     "output_type": "stream",
     "text": [
      "   Malignant    Benign  Prediction  Original Result\n",
      "0   0.149489  0.850511           1                1\n",
      "1   0.989657  0.010343           0                0\n",
      "2   0.009872  0.990128           1                1\n",
      "3   0.994890  0.005110           0                0\n",
      "4   0.894371  0.105629           0                0\n"
     ]
    }
   ],
   "source": [
    "import pandas as pd\n",
    "\n",
    "#---get the predicted probablities and convert into a dataframe---\n",
    "preds_prob = pd.DataFrame(log_regress.predict_proba(X = X_test))\n",
    "\n",
    "#---assign column names to prediction---\n",
    "preds_prob.columns = [\"Malignant\", \"Benign\"]\n",
    "\n",
    "#---get the predicted class labels---\n",
    "preds = log_regress.predict(X = X_test)\n",
    "preds_class = pd.DataFrame(preds)\n",
    "preds_class.columns = [\"Prediction\"]\n",
    "\n",
    "#---actual diagnosis---\n",
    "original_result = pd.DataFrame(y_test)\n",
    "original_result.columns = [\"Original Result\"]\n",
    "\n",
    "#---merge the three dataframes into one---\n",
    "result = pd.concat([preds_prob, preds_class, original_result], axis=1)\n",
    "\n",
    "print(result.head())"
   ]
  },
  {
   "cell_type": "code",
   "execution_count": 8,
   "metadata": {},
   "outputs": [
    {
     "name": "stdout",
     "output_type": "stream",
     "text": [
      "[[53  2]\n",
      " [ 1 87]]\n"
     ]
    }
   ],
   "source": [
    "from sklearn import metrics\n",
    "\n",
    "#---view the confusion matrix---\n",
    "confus_matrix = metrics.confusion_matrix(y_true = y_test, y_pred = preds)\n",
    "\n",
    "print(confus_matrix) # Predicted labels"
   ]
  },
  {
   "cell_type": "markdown",
   "metadata": {},
   "source": [
    "The columns represent the actual diagnosis (0 for malignant and 1 for benign).\n",
    "The rows represent the prediction. Each individual box represents one of the\n",
    "following:\n",
    "\n",
    "- True Positive (TP): The model correctly predicts the outcome as positive. In this example, the number of TP (87) indicates the number of correct predictions that a tumor is benign.\n",
    "\n",
    "\n",
    "- True Negative (TN): The model correctly predicts the outcome as negative. In this example, tumors were correctly predicted to be malignant.\n",
    "\n",
    "\n",
    "- False Positive (FP): The model incorrectly predicted the outcome as positive, but the actual result is negative. In this example, it means that the tumor is actually malignant, but the model predicted the tumor to be benign.\n",
    "\n",
    "\n",
    "- False Negative (FN): The model incorrectly predicted the outcome as negative, but the actual result is positive. In this example, it means that the tumor is actually benign, but the model predicted the tumor to be malignant.\n",
    "This set of numbers is known as the confusion matrix."
   ]
  },
  {
   "cell_type": "code",
   "execution_count": 9,
   "metadata": {},
   "outputs": [
    {
     "data": {
      "text/plain": [
       "Text(0.5, 257.44, 'Predicted label')"
      ]
     },
     "execution_count": 9,
     "metadata": {},
     "output_type": "execute_result"
    },
    {
     "data": {
      "image/png": "[encoded data removed]",
      "text/plain": [
       "<Figure size 432x288 with 2 Axes>"
      ]
     },
     "metadata": {
      "needs_background": "light"
     },
     "output_type": "display_data"
    }
   ],
   "source": [
    "import numpy as np\n",
    "import matplotlib.pyplot as plt\n",
    "import seaborn as sns\n",
    "\n",
    "# class_names=[0,1] # name  of classes\n",
    "class_names=[\"malignant\",\"benign\"]\n",
    "\n",
    "fig, ax = plt.subplots()\n",
    "tick_marks = np.arange(len(class_names))\n",
    "plt.xticks(tick_marks, class_names)\n",
    "plt.yticks(tick_marks, class_names)\n",
    "\n",
    "# create heatmap\n",
    "sns.heatmap(pd.DataFrame(confus_matrix), annot=True, cmap=\"YlGnBu\" ,fmt='g')\n",
    "ax.xaxis.set_label_position(\"top\")\n",
    "plt.tight_layout()\n",
    "plt.title('Confusion matrix', y=1.1)\n",
    "plt.ylabel('Actual label')\n",
    "plt.xlabel('Predicted label')"
   ]
  },
  {
   "cell_type": "code",
   "execution_count": 10,
   "metadata": {},
   "outputs": [
    {
     "name": "stdout",
     "output_type": "stream",
     "text": [
      "---Accuracy---\n",
      "0.9790209790209791\n"
     ]
    }
   ],
   "source": [
    "#---get the accuracy of the prediction---\n",
    "\n",
    "print(\"---Accuracy---\")\n",
    "print(log_regress.score(X = X_test , y = y_test))"
   ]
  },
  {
   "cell_type": "code",
   "execution_count": 11,
   "metadata": {},
   "outputs": [
    {
     "name": "stdout",
     "output_type": "stream",
     "text": [
      "Accuracy: 0.9790209790209791\n",
      "Precision: 0.9775280898876404\n",
      "Recall: 0.9886363636363636\n",
      "f1: 0.983050847457627\n"
     ]
    }
   ],
   "source": [
    "from sklearn import metrics\n",
    "\n",
    "print(\"Accuracy:\",metrics.accuracy_score(y_test, preds))\n",
    "print(\"Precision:\",metrics.precision_score(y_test, preds))\n",
    "print(\"Recall:\",metrics.recall_score(y_test, preds))\n",
    "print(\"f1:\",metrics.f1_score(y_test,preds))"
   ]
  },
  {
   "cell_type": "code",
   "execution_count": 12,
   "metadata": {},
   "outputs": [
    {
     "name": "stdout",
     "output_type": "stream",
     "text": [
      "---Metrices---\n",
      "              precision    recall  f1-score   support\n",
      "\n",
      "           0       0.98      0.96      0.97        55\n",
      "           1       0.98      0.99      0.98        88\n",
      "\n",
      "    accuracy                           0.98       143\n",
      "   macro avg       0.98      0.98      0.98       143\n",
      "weighted avg       0.98      0.98      0.98       143\n",
      "\n"
     ]
    }
   ],
   "source": [
    "# View summary of common classification metrics\n",
    "print(\"---Metrices---\")\n",
    "print(metrics.classification_report(y_true = y_test, y_pred = preds))"
   ]
  },
  {
   "cell_type": "markdown",
   "metadata": {},
   "source": [
    "The concept of precision and recall may not be apparent immediately, but if you consider the following scenario, it will be much clearer. Consider the case of breast cancer diagnosis. If a malignant tumor is represented as negative and a benign tumor is represented as positive, then:\n",
    "\n",
    "-  If the precision or recall is high, it means that more patients with benign tumors are diagnosed correctly, which indicates that the algorithm is good.\n",
    "\n",
    "\n",
    "- If the precision is low, it means that more patients with malignant tumors are diagnosed as benign.\n",
    "\n",
    "\n",
    "- If the recall is low, it means that more patients with benign tumors are diagnosed as malignant."
   ]
  },
  {
   "cell_type": "code",
   "execution_count": 13,
   "metadata": {},
   "outputs": [],
   "source": [
    "from sklearn.metrics import roc_curve, auc\n",
    "\n",
    "#---find the predicted probabilities using the test set\n",
    "probs = log_regress.predict_proba(X_test)\n",
    "preds = probs[:,1]\n",
    "\n",
    "#---find the FPR, TPR, and threshold---\n",
    "fpr, tpr, threshold = roc_curve(test_labels, preds)"
   ]
  },
  {
   "cell_type": "code",
   "execution_count": 14,
   "metadata": {},
   "outputs": [
    {
     "data": {
      "image/png": "[encoded data removed]",
      "text/plain": [
       "<Figure size 432x288 with 1 Axes>"
      ]
     },
     "metadata": {
      "needs_background": "light"
     },
     "output_type": "display_data"
    }
   ],
   "source": [
    "#---find the area under the curve---\n",
    "\n",
    "roc_auc = auc(fpr, tpr)\n",
    "\n",
    "import matplotlib.pyplot as plt\n",
    "plt.plot(fpr, tpr, 'b', label = 'AUC = %0.2f' % roc_auc)\n",
    "plt.plot([0, 1], [0, 1],'r--')\n",
    "plt.xlim([0, 1])\n",
    "plt.ylim([0, 1])\n",
    "plt.ylabel('True Positive Rate (TPR)')\n",
    "plt.xlabel('False Positive Rate (FPR)')\n",
    "plt.title('Receiver Operating Characteristic (ROC)')\n",
    "plt.legend(loc = 'lower right')\n",
    "plt.show()"
   ]
  }
 ],
 "metadata": {
  "kernelspec": {
   "display_name": "Python 3",
   "language": "python",
   "name": "python3"
  },
  "language_info": {
   "codemirror_mode": {
    "name": "ipython",
    "version": 3
   },
   "file_extension": ".py",
   "mimetype": "text/x-python",
   "name": "python",
   "nbconvert_exporter": "python",
   "pygments_lexer": "ipython3",
   "version": "3.8.3"
  }
 },
 "nbformat": 4,
 "nbformat_minor": 4
}
